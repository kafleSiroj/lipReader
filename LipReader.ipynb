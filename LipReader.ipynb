{
 "cells": [
  {
   "cell_type": "code",
   "execution_count": 1,
   "metadata": {
    "executionInfo": {
     "elapsed": 1915,
     "status": "ok",
     "timestamp": 1736265002442,
     "user": {
      "displayName": "Siroj Kafle",
      "userId": "08945197645612837559"
     },
     "user_tz": -345
    },
    "id": "uxYGaAU6lPeG"
   },
   "outputs": [],
   "source": [
    "# !pip install tensorflow==2.10.0\n",
    "# !pip install cv2 "
   ]
  },
  {
   "cell_type": "code",
   "execution_count": 3,
   "metadata": {
    "executionInfo": {
     "elapsed": 6409,
     "status": "ok",
     "timestamp": 1736265010598,
     "user": {
      "displayName": "Siroj Kafle",
      "userId": "08945197645612837559"
     },
     "user_tz": -345
    },
    "id": "2hIqIBJZx4dA"
   },
   "outputs": [],
   "source": [
    "import os\n",
    "import cv2\n",
    "import tensorflow as tf\n",
    "from typing import List\n",
    "from matplotlib import pyplot as plt\n",
    "import numpy as np"
   ]
  },
  {
   "cell_type": "code",
   "execution_count": 4,
   "metadata": {
    "executionInfo": {
     "elapsed": 119,
     "status": "ok",
     "timestamp": 1736265010599,
     "user": {
      "displayName": "Siroj Kafle",
      "userId": "08945197645612837559"
     },
     "user_tz": -345
    },
    "id": "JLaTxIur1KTY"
   },
   "outputs": [],
   "source": [
    "device = tf.config.list_physical_devices('GPU')\n",
    "try:\n",
    "\ttf.config.experimental.set_memory_growth(device[0], True)\n",
    "except:\n",
    "\tpass"
   ]
  },
  {
   "cell_type": "code",
   "execution_count": 1,
   "metadata": {},
   "outputs": [],
   "source": [
    "import zipfile"
   ]
  },
  {
   "cell_type": "code",
   "execution_count": null,
   "metadata": {},
   "outputs": [],
   "source": [
    "if not os.path.exists(\"data\"):\n",
    "\tos.makedirs(\"data\")\n",
    "      \n",
    "with zipfile.ZipFile(\"data.zip\", 'r') as zip:\n",
    "    zip.extractall(\"data\")"
   ]
  },
  {
   "cell_type": "code",
   "execution_count": 7,
   "metadata": {
    "executionInfo": {
     "elapsed": 39,
     "status": "ok",
     "timestamp": 1736265012600,
     "user": {
      "displayName": "Siroj Kafle",
      "userId": "08945197645612837559"
     },
     "user_tz": -345
    },
    "id": "MV8r3hp4ku7R"
   },
   "outputs": [],
   "source": [
    "def load_vid(path:str) -> List[float]:\n",
    "\n",
    "    cap = cv2.VideoCapture(path)\n",
    "    frames = []\n",
    "    for _ in range(int(cap.get(cv2.CAP_PROP_FRAME_COUNT))):\n",
    "        ret, frame = cap.read()\n",
    "        frame = tf.image.rgb_to_grayscale(frame)\n",
    "        frames.append(frame[190:236,80:220,:])\n",
    "    cap.release()\n",
    "\n",
    "    mean = tf.math.reduce_mean(frames)\n",
    "    std = tf.math.reduce_std(tf.cast(frames, tf.float32))\n",
    "    return tf.cast((frames - mean), tf.float32) / std"
   ]
  },
  {
   "cell_type": "code",
   "execution_count": 9,
   "metadata": {
    "executionInfo": {
     "elapsed": 38,
     "status": "ok",
     "timestamp": 1736265012600,
     "user": {
      "displayName": "Siroj Kafle",
      "userId": "08945197645612837559"
     },
     "user_tz": -345
    },
    "id": "p6I9Fd30mySY"
   },
   "outputs": [],
   "source": [
    "vocab = [x for x in \"abcdefghijklmnopqrstuvwxyz'?!123456789 \"]"
   ]
  },
  {
   "cell_type": "code",
   "execution_count": 10,
   "metadata": {
    "executionInfo": {
     "elapsed": 47,
     "status": "ok",
     "timestamp": 1736265012610,
     "user": {
      "displayName": "Siroj Kafle",
      "userId": "08945197645612837559"
     },
     "user_tz": -345
    },
    "id": "5Myf4rvjwykx"
   },
   "outputs": [],
   "source": [
    "# vocab"
   ]
  },
  {
   "cell_type": "code",
   "execution_count": 11,
   "metadata": {
    "executionInfo": {
     "elapsed": 47,
     "status": "ok",
     "timestamp": 1736265012610,
     "user": {
      "displayName": "Siroj Kafle",
      "userId": "08945197645612837559"
     },
     "user_tz": -345
    },
    "id": "__2fQd05w1Kb"
   },
   "outputs": [],
   "source": [
    "chr_to_num = tf.keras.layers.StringLookup(vocabulary=vocab, oov_token=\"\")\n",
    "num_to_chr = tf.keras.layers.StringLookup(\n",
    "    vocabulary=chr_to_num.get_vocabulary(), oov_token=\"\", invert=True\n",
    ")\n"
   ]
  },
  {
   "cell_type": "code",
   "execution_count": 12,
   "metadata": {
    "executionInfo": {
     "elapsed": 46,
     "status": "ok",
     "timestamp": 1736265012611,
     "user": {
      "displayName": "Siroj Kafle",
      "userId": "08945197645612837559"
     },
     "user_tz": -345
    },
    "id": "KSJzopqsyKc7"
   },
   "outputs": [],
   "source": [
    "def load_alignments(path:str) -> List[str]:\n",
    "    with open(path, 'r') as f:\n",
    "        lines = f.readlines()\n",
    "    tokens = []\n",
    "    for line in lines:\n",
    "        line = line.split()\n",
    "        if line[2] != 'sil':\n",
    "            tokens = [*tokens,' ',line[2]]\n",
    "    return chr_to_num(tf.reshape(tf.strings.unicode_split(tokens, input_encoding='UTF-8'), (-1)))[1:]"
   ]
  },
  {
   "cell_type": "code",
   "execution_count": 50,
   "metadata": {
    "executionInfo": {
     "elapsed": 720,
     "status": "ok",
     "timestamp": 1736265584084,
     "user": {
      "displayName": "Siroj Kafle",
      "userId": "08945197645612837559"
     },
     "user_tz": -345
    },
    "id": "JWuxt3ZU3C19"
   },
   "outputs": [],
   "source": [
    "def load_data(path: str):\n",
    "    path = tf.convert_to_tensor(path)\n",
    "    path = bytes.decode(path.numpy())\n",
    "    file_name = path.split('/')[-1].split('.')[0]\n",
    "    video_path = os.path.join('data','s1',f'{file_name}.mpg')\n",
    "    alignment_path = os.path.join('data','alignments','s1',f'{file_name}.align')\n",
    "    frames = load_vid(video_path)\n",
    "    alignments = load_alignments(alignment_path)\n",
    "\n",
    "    return frames, alignments"
   ]
  },
  {
   "cell_type": "code",
   "execution_count": 51,
   "metadata": {
    "colab": {
     "base_uri": "https://localhost:8080/",
     "height": 279
    },
    "collapsed": true,
    "executionInfo": {
     "elapsed": 997,
     "status": "ok",
     "timestamp": 1736265586571,
     "user": {
      "displayName": "Siroj Kafle",
      "userId": "08945197645612837559"
     },
     "user_tz": -345
    },
    "id": "lw_Ky_Gl4cEr",
    "outputId": "894f52d7-a26a-4cd6-a7bc-7af63b28f55e"
   },
   "outputs": [
    {
     "data": {
      "text/plain": [
       "<tf.Tensor: shape=(21,), dtype=int64, numpy=\n",
       "array([ 2,  9, 14, 39,  2, 12, 21,  5, 39,  1, 20, 39,  6, 39, 20, 23, 15,\n",
       "       39, 14, 15, 23])>"
      ]
     },
     "execution_count": 51,
     "metadata": {},
     "output_type": "execute_result"
    },
    {
     "data": {
      "image/png": "[encoded data removed]",
      "text/plain": [
       "<Figure size 640x480 with 1 Axes>"
      ]
     },
     "metadata": {},
     "output_type": "display_data"
    }
   ],
   "source": [
    "#load_data() is working\n",
    "pathTest = './data/s1/bbaf2n.mpg'\n",
    "frames, alignments = load_data(pathTest)\n",
    "plt.imshow(frames[0])\n",
    "alignments"
   ]
  },
  {
   "cell_type": "code",
   "execution_count": 53,
   "metadata": {
    "executionInfo": {
     "elapsed": 44,
     "status": "ok",
     "timestamp": 1736265586573,
     "user": {
      "displayName": "Siroj Kafle",
      "userId": "08945197645612837559"
     },
     "user_tz": -345
    },
    "id": "9cu0GlFP5RpG"
   },
   "outputs": [],
   "source": [
    "def mappable_function(path: str) -> List[str]:\n",
    "    result = tf.py_function(load_data, [path], (tf.float32, tf.int64))\n",
    "    return result"
   ]
  },
  {
   "cell_type": "code",
   "execution_count": 54,
   "metadata": {
    "executionInfo": {
     "elapsed": 43,
     "status": "ok",
     "timestamp": 1736265586573,
     "user": {
      "displayName": "Siroj Kafle",
      "userId": "08945197645612837559"
     },
     "user_tz": -345
    },
    "id": "9ah8AAdeCdf0"
   },
   "outputs": [],
   "source": [
    "data = tf.data.Dataset.list_files('./data/s1/*.mpg')\n",
    "data = data.shuffle(500, reshuffle_each_iteration=False)\n",
    "data = data.map(mappable_function)\n",
    "data = data.padded_batch(2, padded_shapes=([75,None,None,None],[40]))\n",
    "data = data.prefetch(buffer_size=tf.data.AUTOTUNE)\n",
    "\n",
    "train, test = data.take(450),data.skip(450)"
   ]
  },
  {
   "cell_type": "code",
   "execution_count": 55,
   "metadata": {
    "colab": {
     "base_uri": "https://localhost:8080/"
    },
    "executionInfo": {
     "elapsed": 43,
     "status": "ok",
     "timestamp": 1736265586574,
     "user": {
      "displayName": "Siroj Kafle",
      "userId": "08945197645612837559"
     },
     "user_tz": -345
    },
    "id": "yjx6_LibXvjl",
    "outputId": "85870ff3-cabc-4a8f-b684-885c11330d02"
   },
   "outputs": [
    {
     "data": {
      "text/plain": [
       "(75, 46, 140, 1)"
      ]
     },
     "execution_count": 55,
     "metadata": {},
     "output_type": "execute_result"
    }
   ],
   "source": [
    "data.as_numpy_iterator().next()[0][0].shape"
   ]
  },
  {
   "cell_type": "code",
   "execution_count": 59,
   "metadata": {
    "executionInfo": {
     "elapsed": 14,
     "status": "ok",
     "timestamp": 1736265587604,
     "user": {
      "displayName": "Siroj Kafle",
      "userId": "08945197645612837559"
     },
     "user_tz": -345
    },
    "id": "D8wOPXDhbB1I"
   },
   "outputs": [],
   "source": [
    "# !pip install pydot\n",
    "# !apt-get install graphviz"
   ]
  },
  {
   "cell_type": "code",
   "execution_count": 60,
   "metadata": {
    "executionInfo": {
     "elapsed": 13,
     "status": "ok",
     "timestamp": 1736265587604,
     "user": {
      "displayName": "Siroj Kafle",
      "userId": "08945197645612837559"
     },
     "user_tz": -345
    },
    "id": "710N6GNgWLRa"
   },
   "outputs": [],
   "source": [
    "from tensorflow.keras.models import Sequential\n",
    "from tensorflow.keras.layers import Conv3D, LSTM, Dense, Dropout, Bidirectional, MaxPool3D, Activation, Reshape, SpatialDropout3D, BatchNormalization, TimeDistributed, Flatten\n",
    "from tensorflow.keras.optimizers import Adam\n",
    "from tensorflow.keras.callbacks import ModelCheckpoint, LearningRateScheduler\n",
    "from tensorflow.keras.utils import plot_model"
   ]
  },
  {
   "cell_type": "code",
   "execution_count": 61,
   "metadata": {
    "executionInfo": {
     "elapsed": 8535,
     "status": "ok",
     "timestamp": 1736265596127,
     "user": {
      "displayName": "Siroj Kafle",
      "userId": "08945197645612837559"
     },
     "user_tz": -345
    },
    "id": "fGbfV1PWYRxw"
   },
   "outputs": [],
   "source": [
    "#creating the neural network\n",
    "\n",
    "model = Sequential()\n",
    "model.add(Conv3D(128, 3, input_shape=(75,46,140,1), padding='same'))\n",
    "model.add(Activation('relu'))\n",
    "model.add(MaxPool3D((1,2,2)))\n",
    "\n",
    "model.add(Conv3D(256, 3, padding='same'))\n",
    "model.add(Activation('relu'))\n",
    "model.add(MaxPool3D((1,2,2)))\n",
    "\n",
    "model.add(Conv3D(75, 3, padding='same'))\n",
    "model.add(Activation('relu'))\n",
    "model.add(MaxPool3D((1,2,2)))\n",
    "\n",
    "model.add(TimeDistributed(Flatten()))\n",
    "\n",
    "model.add(Bidirectional(LSTM(128, kernel_initializer='Orthogonal', return_sequences=True)))\n",
    "model.add(Dropout(.5))\n",
    "\n",
    "model.add(Bidirectional(LSTM(128, kernel_initializer='Orthogonal', return_sequences=True)))\n",
    "model.add(Dropout(.5))\n",
    "\n",
    "model.add(Dense(chr_to_num.vocabulary_size()+1, kernel_initializer='he_normal', activation='softmax'))"
   ]
  },
  {
   "cell_type": "code",
   "execution_count": 62,
   "metadata": {
    "colab": {
     "base_uri": "https://localhost:8080/"
    },
    "collapsed": true,
    "executionInfo": {
     "elapsed": 121,
     "status": "ok",
     "timestamp": 1736265596136,
     "user": {
      "displayName": "Siroj Kafle",
      "userId": "08945197645612837559"
     },
     "user_tz": -345
    },
    "id": "YQ68Pxq2abbM",
    "outputId": "7687747b-f139-40de-9e67-042f2118646f"
   },
   "outputs": [
    {
     "name": "stdout",
     "output_type": "stream",
     "text": [
      "Model: \"sequential_1\"\n",
      "_________________________________________________________________\n",
      " Layer (type)                Output Shape              Param #   \n",
      "=================================================================\n",
      " conv3d_3 (Conv3D)           (None, 75, 46, 140, 128)  3584      \n",
      "                                                                 \n",
      " activation_3 (Activation)   (None, 75, 46, 140, 128)  0         \n",
      "                                                                 \n",
      " max_pooling3d_3 (MaxPooling  (None, 75, 23, 70, 128)  0         \n",
      " 3D)                                                             \n",
      "                                                                 \n",
      " conv3d_4 (Conv3D)           (None, 75, 23, 70, 256)   884992    \n",
      "                                                                 \n",
      " activation_4 (Activation)   (None, 75, 23, 70, 256)   0         \n",
      "                                                                 \n",
      " max_pooling3d_4 (MaxPooling  (None, 75, 11, 35, 256)  0         \n",
      " 3D)                                                             \n",
      "                                                                 \n",
      " conv3d_5 (Conv3D)           (None, 75, 11, 35, 75)    518475    \n",
      "                                                                 \n",
      " activation_5 (Activation)   (None, 75, 11, 35, 75)    0         \n",
      "                                                                 \n",
      " max_pooling3d_5 (MaxPooling  (None, 75, 5, 17, 75)    0         \n",
      " 3D)                                                             \n",
      "                                                                 \n",
      " time_distributed_1 (TimeDis  (None, 75, 6375)         0         \n",
      " tributed)                                                       \n",
      "                                                                 \n",
      " bidirectional_2 (Bidirectio  (None, 75, 256)          6660096   \n",
      " nal)                                                            \n",
      "                                                                 \n",
      " dropout_2 (Dropout)         (None, 75, 256)           0         \n",
      "                                                                 \n",
      " bidirectional_3 (Bidirectio  (None, 75, 256)          394240    \n",
      " nal)                                                            \n",
      "                                                                 \n",
      " dropout_3 (Dropout)         (None, 75, 256)           0         \n",
      "                                                                 \n",
      " dense_1 (Dense)             (None, 75, 41)            10537     \n",
      "                                                                 \n",
      "=================================================================\n",
      "Total params: 8,471,924\n",
      "Trainable params: 8,471,924\n",
      "Non-trainable params: 0\n",
      "_________________________________________________________________\n"
     ]
    }
   ],
   "source": [
    "# plot_model(model, to_file='model.png', show_shapes=True, show_layer_names=True)\n",
    "model.summary()"
   ]
  },
  {
   "cell_type": "code",
   "execution_count": 65,
   "metadata": {
    "executionInfo": {
     "elapsed": 85,
     "status": "ok",
     "timestamp": 1736265596137,
     "user": {
      "displayName": "Siroj Kafle",
      "userId": "08945197645612837559"
     },
     "user_tz": -345
    },
    "id": "KEWGtzcSjyev"
   },
   "outputs": [],
   "source": [
    "# model.input_shape"
   ]
  },
  {
   "cell_type": "code",
   "execution_count": 66,
   "metadata": {
    "executionInfo": {
     "elapsed": 84,
     "status": "ok",
     "timestamp": 1736265596137,
     "user": {
      "displayName": "Siroj Kafle",
      "userId": "08945197645612837559"
     },
     "user_tz": -345
    },
    "id": "5qm5J1LikK9z"
   },
   "outputs": [],
   "source": [
    "# model.output_shape"
   ]
  },
  {
   "cell_type": "code",
   "execution_count": 67,
   "metadata": {
    "executionInfo": {
     "elapsed": 84,
     "status": "ok",
     "timestamp": 1736265596137,
     "user": {
      "displayName": "Siroj Kafle",
      "userId": "08945197645612837559"
     },
     "user_tz": -345
    },
    "id": "G-OH0fpnkjR7"
   },
   "outputs": [],
   "source": [
    "def scheduler(epoch, lr):\n",
    "    if epoch < 30:\n",
    "        return lr\n",
    "    else:\n",
    "        return lr * tf.math.exp(-0.1)"
   ]
  },
  {
   "cell_type": "code",
   "execution_count": 68,
   "metadata": {
    "executionInfo": {
     "elapsed": 83,
     "status": "ok",
     "timestamp": 1736265596137,
     "user": {
      "displayName": "Siroj Kafle",
      "userId": "08945197645612837559"
     },
     "user_tz": -345
    },
    "id": "l87FlRpIkmNA"
   },
   "outputs": [],
   "source": [
    "def CTCLoss(y_true, y_pred):\n",
    "    batch_len = tf.cast(tf.shape(y_true)[0], dtype=\"int64\")\n",
    "    input_length = tf.cast(tf.shape(y_pred)[1], dtype=\"int64\")\n",
    "    label_length = tf.cast(tf.shape(y_true)[1], dtype=\"int64\")\n",
    "\n",
    "    input_length = input_length * tf.ones(shape=(batch_len, 1), dtype=\"int64\")\n",
    "    label_length = label_length * tf.ones(shape=(batch_len, 1), dtype=\"int64\")\n",
    "\n",
    "    loss = tf.keras.backend.ctc_batch_cost(y_true, y_pred, input_length, label_length)\n",
    "    return loss"
   ]
  },
  {
   "cell_type": "code",
   "execution_count": 70,
   "metadata": {
    "executionInfo": {
     "elapsed": 83,
     "status": "ok",
     "timestamp": 1736265596138,
     "user": {
      "displayName": "Siroj Kafle",
      "userId": "08945197645612837559"
     },
     "user_tz": -345
    },
    "id": "y_xjiM4Ukpr0"
   },
   "outputs": [],
   "source": [
    "model.compile(optimizer=Adam(learning_rate=0.0001), loss=CTCLoss)"
   ]
  },
  {
   "cell_type": "code",
   "execution_count": 108,
   "metadata": {
    "executionInfo": {
     "elapsed": 627,
     "status": "ok",
     "timestamp": 1736267111851,
     "user": {
      "displayName": "Siroj Kafle",
      "userId": "08945197645612837559"
     },
     "user_tz": -345
    },
    "id": "Q5mN6SAbkuI5"
   },
   "outputs": [],
   "source": [
    "checkpoint_callback = ModelCheckpoint(os.path.join('models','checkpoint.weights.h5'), monitor='loss', save_weights_only=True)\n",
    "schedule_callback = LearningRateScheduler(scheduler)"
   ]
  },
  {
   "cell_type": "code",
   "execution_count": 74,
   "metadata": {
    "executionInfo": {
     "elapsed": 80,
     "status": "ok",
     "timestamp": 1736265596139,
     "user": {
      "displayName": "Siroj Kafle",
      "userId": "08945197645612837559"
     },
     "user_tz": -345
    },
    "id": "HJ84-d3SvGyr"
   },
   "outputs": [],
   "source": [
    "model.fit(train, validation_data=test, epochs=100, callbacks=[checkpoint_callback, schedule_callback]) ####"
   ]
  },
  {
   "cell_type": "code",
   "execution_count": null,
   "metadata": {},
   "outputs": [],
   "source": [
    "# if not os.path.exists(\"checkpoints\"):\n",
    "# \tos.makedirs(\"checkpoints\")\n",
    "      \n",
    "# with zipfile.ZipFile(\"checkpoints.zip\", 'r') as zip:\n",
    "#     zip.extractall(\"checkpoints\")"
   ]
  },
  {
   "cell_type": "code",
   "execution_count": 76,
   "metadata": {
    "colab": {
     "base_uri": "https://localhost:8080/"
    },
    "executionInfo": {
     "elapsed": 78,
     "status": "ok",
     "timestamp": 1736265596142,
     "user": {
      "displayName": "Siroj Kafle",
      "userId": "08945197645612837559"
     },
     "user_tz": -345
    },
    "id": "Mf8_R8it1kU_",
    "outputId": "be6e0be3-a9d1-42e5-b10e-dbfad859b84c"
   },
   "outputs": [
    {
     "data": {
      "text/plain": [
       "<tensorflow.python.checkpoint.checkpoint.CheckpointLoadStatus at 0x7d48403644f0>"
      ]
     },
     "execution_count": 76,
     "metadata": {},
     "output_type": "execute_result"
    }
   ],
   "source": [
    "# model.load_weights('checkpoints/checkpoint')"
   ]
  },
  {
   "cell_type": "markdown",
   "metadata": {
    "id": "7vxxFVkhj9y1"
   },
   "source": [
    "**Testing on the Random Pipeline Data**"
   ]
  },
  {
   "cell_type": "code",
   "execution_count": 77,
   "metadata": {
    "executionInfo": {
     "elapsed": 42,
     "status": "ok",
     "timestamp": 1736265596143,
     "user": {
      "displayName": "Siroj Kafle",
      "userId": "08945197645612837559"
     },
     "user_tz": -345
    },
    "id": "ULvDRSPX1pFA"
   },
   "outputs": [],
   "source": [
    "test_data = test.as_numpy_iterator()"
   ]
  },
  {
   "cell_type": "code",
   "execution_count": 94,
   "metadata": {
    "executionInfo": {
     "elapsed": 674,
     "status": "ok",
     "timestamp": 1736266282868,
     "user": {
      "displayName": "Siroj Kafle",
      "userId": "08945197645612837559"
     },
     "user_tz": -345
    },
    "id": "BSauWsqP18eY"
   },
   "outputs": [],
   "source": [
    "testingData = test_data.next()"
   ]
  },
  {
   "cell_type": "code",
   "execution_count": 79,
   "metadata": {
    "colab": {
     "base_uri": "https://localhost:8080/"
    },
    "executionInfo": {
     "elapsed": 10805,
     "status": "ok",
     "timestamp": 1736265850074,
     "user": {
      "displayName": "Siroj Kafle",
      "userId": "08945197645612837559"
     },
     "user_tz": -345
    },
    "id": "zk5dP_Vh1_Lb",
    "outputId": "56d4e81b-e290-41cb-aa05-c119e90b8514"
   },
   "outputs": [
    {
     "name": "stdout",
     "output_type": "stream",
     "text": [
      "1/1 [==============================] - 11s 11s/step\n"
     ]
    }
   ],
   "source": [
    "pdct = model.predict(testingData[0])"
   ]
  },
  {
   "cell_type": "code",
   "execution_count": 80,
   "metadata": {
    "executionInfo": {
     "elapsed": 40,
     "status": "ok",
     "timestamp": 1736265850075,
     "user": {
      "displayName": "Siroj Kafle",
      "userId": "08945197645612837559"
     },
     "user_tz": -345
    },
    "id": "HDvJp_7o456h"
   },
   "outputs": [],
   "source": [
    "decoded = tf.keras.backend.ctc_decode(pdct, input_length=[75,75], greedy=True)[0][0].numpy()"
   ]
  },
  {
   "cell_type": "code",
   "execution_count": 81,
   "metadata": {
    "colab": {
     "base_uri": "https://localhost:8080/"
    },
    "executionInfo": {
     "elapsed": 38,
     "status": "ok",
     "timestamp": 1736265850075,
     "user": {
      "displayName": "Siroj Kafle",
      "userId": "08945197645612837559"
     },
     "user_tz": -345
    },
    "id": "csVOY7rT51QM",
    "outputId": "baed2e4e-e370-4a53-9bec-6dca9a9aa974"
   },
   "outputs": [
    {
     "name": "stdout",
     "output_type": "stream",
     "text": [
      "Original\n",
      "----------------------------------------------------------------------------------------------------\n"
     ]
    },
    {
     "data": {
      "text/plain": [
       "[<tf.Tensor: shape=(), dtype=string, numpy=b'bin green with u nine again'>,\n",
       " <tf.Tensor: shape=(), dtype=string, numpy=b'lay green in s one again'>]"
      ]
     },
     "execution_count": 81,
     "metadata": {},
     "output_type": "execute_result"
    }
   ],
   "source": [
    "print(\"Original\")\n",
    "print(\"-\"*100)\n",
    "[tf.strings.reduce_join([num_to_chr(word) for word in sentence]) for sentence in testingData[1]]"
   ]
  },
  {
   "cell_type": "code",
   "execution_count": 82,
   "metadata": {
    "colab": {
     "base_uri": "https://localhost:8080/"
    },
    "executionInfo": {
     "elapsed": 35,
     "status": "ok",
     "timestamp": 1736265850079,
     "user": {
      "displayName": "Siroj Kafle",
      "userId": "08945197645612837559"
     },
     "user_tz": -345
    },
    "id": "zePVeylL5VR9",
    "outputId": "5f736cac-b651-4ab4-f98a-474a7b40f13c"
   },
   "outputs": [
    {
     "name": "stdout",
     "output_type": "stream",
     "text": [
      "Predicted\n",
      "----------------------------------------------------------------------------------------------------\n"
     ]
    },
    {
     "data": {
      "text/plain": [
       "[<tf.Tensor: shape=(), dtype=string, numpy=b'bin green with u nine again'>,\n",
       " <tf.Tensor: shape=(), dtype=string, numpy=b'lay green in one again'>]"
      ]
     },
     "execution_count": 82,
     "metadata": {},
     "output_type": "execute_result"
    }
   ],
   "source": [
    "print(\"Predicted\")\n",
    "print(\"-\"*100)\n",
    "[tf.strings.reduce_join([num_to_chr(word) for word in sentence]) for sentence in decoded]"
   ]
  },
  {
   "cell_type": "markdown",
   "metadata": {
    "id": "yqCXcWUNkS88"
   },
   "source": [
    "**Testing on video Path**"
   ]
  },
  {
   "cell_type": "code",
   "execution_count": 87,
   "metadata": {
    "executionInfo": {
     "elapsed": 765,
     "status": "ok",
     "timestamp": 1736266025436,
     "user": {
      "displayName": "Siroj Kafle",
      "userId": "08945197645612837559"
     },
     "user_tz": -345
    },
    "id": "P8P3ONnYeiLu"
   },
   "outputs": [],
   "source": [
    "path = \"./data/s1/bbaf2n.mpg\"\n",
    "adata = load_data(path)"
   ]
  },
  {
   "cell_type": "code",
   "execution_count": 92,
   "metadata": {
    "collapsed": true,
    "executionInfo": {
     "elapsed": 44,
     "status": "ok",
     "timestamp": 1736266214031,
     "user": {
      "displayName": "Siroj Kafle",
      "userId": "08945197645612837559"
     },
     "user_tz": -345
    },
    "id": "umpTQitIesL0"
   },
   "outputs": [],
   "source": [
    "pdata = adata[0]\n",
    "tdata = adata[1]"
   ]
  },
  {
   "cell_type": "code",
   "execution_count": 103,
   "metadata": {
    "colab": {
     "base_uri": "https://localhost:8080/"
    },
    "executionInfo": {
     "elapsed": 5247,
     "status": "ok",
     "timestamp": 1736266554978,
     "user": {
      "displayName": "Siroj Kafle",
      "userId": "08945197645612837559"
     },
     "user_tz": -345
    },
    "id": "xwg4Tp1Ph_eP",
    "outputId": "fdd803c5-fb10-4a92-bdb0-d6457977e342"
   },
   "outputs": [
    {
     "name": "stdout",
     "output_type": "stream",
     "text": [
      "1/1 [==============================] - 5s 5s/step\n"
     ]
    }
   ],
   "source": [
    "pred = model.predict(tf.expand_dims(pdata, axis=0))\n",
    "decoded = tf.keras.backend.ctc_decode(pred, input_length=[75], greedy=True)[0][0].numpy()"
   ]
  },
  {
   "cell_type": "code",
   "execution_count": 100,
   "metadata": {
    "colab": {
     "base_uri": "https://localhost:8080/"
    },
    "executionInfo": {
     "elapsed": 644,
     "status": "ok",
     "timestamp": 1736266503134,
     "user": {
      "displayName": "Siroj Kafle",
      "userId": "08945197645612837559"
     },
     "user_tz": -345
    },
    "id": "Ev0Itv8ahb5K",
    "outputId": "7cddec8b-0473-4dbf-f135-df983b2d7b76"
   },
   "outputs": [
    {
     "name": "stdout",
     "output_type": "stream",
     "text": [
      "Original\n",
      "----------------------------------------------------------------------------------------------------\n"
     ]
    },
    {
     "data": {
      "text/plain": [
       "[<tf.Tensor: shape=(), dtype=string, numpy=b'bin blue at f two now'>]"
      ]
     },
     "execution_count": 100,
     "metadata": {},
     "output_type": "execute_result"
    }
   ],
   "source": [
    "print(\"Original\")\n",
    "print(\"-\"*50)\n",
    "[tf.strings.reduce_join([num_to_chr(word) for word in sentence]) for sentence in [tdata]]"
   ]
  },
  {
   "cell_type": "code",
   "execution_count": 104,
   "metadata": {
    "colab": {
     "base_uri": "https://localhost:8080/"
    },
    "executionInfo": {
     "elapsed": 701,
     "status": "ok",
     "timestamp": 1736266578036,
     "user": {
      "displayName": "Siroj Kafle",
      "userId": "08945197645612837559"
     },
     "user_tz": -345
    },
    "id": "LY6J0A_GiyPB",
    "outputId": "105614b6-4bc4-4977-cb2e-c825a3eded13"
   },
   "outputs": [
    {
     "name": "stdout",
     "output_type": "stream",
     "text": [
      "Predicted\n",
      "----------------------------------------------------------------------------------------------------\n"
     ]
    },
    {
     "data": {
      "text/plain": [
       "[<tf.Tensor: shape=(), dtype=string, numpy=b'bin blue at f two now'>]"
      ]
     },
     "execution_count": 104,
     "metadata": {},
     "output_type": "execute_result"
    }
   ],
   "source": [
    "print(\"Predicted\")\n",
    "print(\"-\"*50)\n",
    "[tf.strings.reduce_join([num_to_chr(word) for word in sentence]) for sentence in decoded]"
   ]
  }
 ],
 "metadata": {
  "accelerator": "GPU",
  "colab": {
   "authorship_tag": "ABX9TyPk5F2zZPhZjyuDhEWMKnW3",
   "gpuType": "T4",
   "provenance": []
  },
  "kernelspec": {
   "display_name": "Python 3",
   "name": "python3"
  },
  "language_info": {
   "codemirror_mode": {
    "name": "ipython",
    "version": 3
   },
   "file_extension": ".py",
   "mimetype": "text/x-python",
   "name": "python",
   "nbconvert_exporter": "python",
   "pygments_lexer": "ipython3",
   "version": "3.12.3"
  }
 },
 "nbformat": 4,
 "nbformat_minor": 0
}
